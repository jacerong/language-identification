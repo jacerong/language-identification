{
 "cells": [
  {
   "cell_type": "markdown",
   "metadata": {},
   "source": [
    "# Language Identification"
   ]
  },
  {
   "cell_type": "markdown",
   "metadata": {},
   "source": [
    "The goal is to identify the language in which a document, message, or sentence is written. To achieve this goal, I propose the following methodology. First, to transform a text into character n-gram features. Second, to build a machine-learned classifier to predict the language in which a text is written, using those character n-gram features. Last, to evaluate the performance of the approach proposed here on a variety of datasets and against some of the most popular language identification libraries in the Python ecosystem.\n",
    "\n",
    "Last, it is worth making clear that the language identification system will be limited to 14 out of 24 official languages of the European Union, namely:\n",
    "\n",
    "1. Czech\n",
    "2. Danish\n",
    "3. Dutch\n",
    "4. English\n",
    "5. Finnish\n",
    "6. French\n",
    "7. German\n",
    "8. Hungarian\n",
    "9. Italian\n",
    "10. Polish\n",
    "11. Portuguese\n",
    "12. Romanian\n",
    "13. Spanish\n",
    "14. Swedish\n",
    "\n",
    "The above languages were chosen due to data availability matters, but mostly because their alphabet is based on modern Latin."
   ]
  },
  {
   "cell_type": "markdown",
   "metadata": {},
   "source": [
    "## 0. Requirements"
   ]
  },
  {
   "cell_type": "markdown",
   "metadata": {},
   "source": [
    "To encourage reproducibility, the technologies—and their version—used to approach this task are listed below:\n",
    "\n",
    "1. Python **3.7.4**\n",
    "2. NumPy **1.17.2**\n",
    "3. SciPy **1.3.1**\n",
    "4. pandas **0.25.1**\n",
    "5. scikit-learn **0.21.3**\n",
    "6. Matplotlib **3.1.1**\n",
    "7. langid **1.1.6**\n",
    "8. langdetect **1.0.8**\n",
    "9. fasttext **0.9.2**"
   ]
  },
  {
   "cell_type": "code",
   "execution_count": 1,
   "metadata": {},
   "outputs": [],
   "source": [
    "import itertools\n",
    "import os\n",
    "import re\n",
    "\n",
    "import joblib\n",
    "import matplotlib.pyplot as plt\n",
    "import numpy as np\n",
    "import pandas as pd\n",
    "from IPython.core.display import display\n",
    "from IPython.core.display import HTML\n",
    "from sklearn.feature_extraction.text import TfidfVectorizer\n",
    "from sklearn.linear_model import LogisticRegression\n",
    "from sklearn.metrics import accuracy_score\n",
    "from sklearn.metrics import confusion_matrix\n",
    "from sklearn.metrics import f1_score\n",
    "from sklearn.model_selection import GridSearchCV\n",
    "from sklearn.model_selection import ParameterGrid\n",
    "from sklearn.model_selection import StratifiedKFold\n",
    "\n",
    "from utils import LanguageIdentificationHelper"
   ]
  },
  {
   "cell_type": "code",
   "execution_count": 2,
   "metadata": {},
   "outputs": [],
   "source": [
    "%matplotlib inline\n",
    "plt.style.use('ggplot')"
   ]
  },
  {
   "cell_type": "code",
   "execution_count": 3,
   "metadata": {},
   "outputs": [],
   "source": [
    "CURRENT_PATH = os.path.abspath(os.getcwd())\n",
    "DATA_PATH = os.path.join(CURRENT_PATH, 'data')"
   ]
  },
  {
   "cell_type": "markdown",
   "metadata": {},
   "source": [
    "To build the language identification system, a large collection of sentences provided by [Tatoeba](https://tatoeba.org/eng) is going to be used. (On the download date, July 29, 2020, this collection consists of 8,544,796 sentences.)"
   ]
  },
  {
   "cell_type": "code",
   "execution_count": 4,
   "metadata": {},
   "outputs": [],
   "source": [
    "DATASETS = {\n",
    "    'original': 'sentences.csv',\n",
    "    'filtered': 'filtered_sentences.csv',\n",
    "    'normalized': 'normalized_sentences.csv',\n",
    "    'sampled': 'sampled_sentences.csv',\n",
    "    'model_selection': 'model_selection.csv',\n",
    "    'tatoeba_test': 'tatoeba_test.csv',\n",
    "    'wili_test': 'wili_test.csv',\n",
    "    'liga_test': 'liga_test.csv',\n",
    "    'experiments': 'experiments.csv'\n",
    "}\n",
    "\n",
    "DATASETS = {key: os.path.join(DATA_PATH, fname) for key, fname in DATASETS.items()}"
   ]
  },
  {
   "cell_type": "code",
   "execution_count": 5,
   "metadata": {},
   "outputs": [],
   "source": [
    "RANDOM_SEED = 91"
   ]
  },
  {
   "cell_type": "markdown",
   "metadata": {},
   "source": [
    "## 1. Data Preprocessing"
   ]
  },
  {
   "cell_type": "markdown",
   "metadata": {},
   "source": [
    "Throughout this section, let's filter sentences written in one out of the 14 languages described above. Each sentence is associated with an [ISO 639-3](https://en.wikipedia.org/wiki/List_of_ISO_639-3_codes) language code.\n",
    "\n",
    "Furthermore, each sentence is preprocessed, normalized, or cleaned as follows. First, non-alphabetic characters are removed from a text. Second, alphabetic characters are converted to lowercase. Last, consecutive repetitions of the white-space character are reduced to only one occurrence."
   ]
  },
  {
   "cell_type": "code",
   "execution_count": 6,
   "metadata": {},
   "outputs": [],
   "source": [
    "LANGUAGES = {\n",
    "    'ces': 'Czech',\n",
    "    'dan': 'Danish',\n",
    "    'nld': 'Dutch',\n",
    "    'eng': 'English',\n",
    "    'fin': 'Finnish',\n",
    "    'fra': 'French',\n",
    "    'deu': 'German',\n",
    "    'hun': 'Hungarian',\n",
    "    'ita': 'Italian',\n",
    "    'pol': 'Polish',\n",
    "    'por': 'Portuguese',\n",
    "    'ron': 'Romanian',\n",
    "    'spa': 'Spanish',\n",
    "    'swe': 'Swedish'\n",
    "}\n",
    "\n",
    "MIN_LANG_FREQ = 10000"
   ]
  },
  {
   "cell_type": "code",
   "execution_count": 7,
   "metadata": {},
   "outputs": [],
   "source": [
    "ALPHABET = (\"abcdefghijklmnopqrstuvwxyz\"\n",
    "            + \"äöüß\" # German\n",
    "            + \"àâæçéèêëïîôœùûüÿ\" # French\n",
    "            + \"áéíóúüñ\" # Spanish\n",
    "            + \"àèéìòóù\" # Italian\n",
    "            + \"éëïóöü\" # Dutch\n",
    "            + \"ãáàâçéêíõóôúü\" # Portuguese\n",
    "            + \"áéíöóőüúű\" # Hungarian\n",
    "            + \"äåö\" # Finnish\n",
    "            + \"äåéö\" # Swedish\n",
    "            + \"áčďéěíňóřšťúůýž\" # Czech\n",
    "            + \"ąćęłńóśźż\" # Polish\n",
    "            + \"ăâîșşțţ\" # Romanian\n",
    "            + \"åæéø\") # Danish\n",
    "\n",
    "ALPHABET = re.sub('\\s+', '', ALPHABET.lower()).strip()\n",
    "ALPHABET = list(set(list(ALPHABET)))\n",
    "ALPHABET.sort()\n",
    "ALPHABET = ''.join(ALPHABET) + ' '"
   ]
  },
  {
   "cell_type": "markdown",
   "metadata": {},
   "source": [
    "As previously stated, let's filter sentences by the language in which they are written, additionally discarding those duplicate."
   ]
  },
  {
   "cell_type": "code",
   "execution_count": 8,
   "metadata": {},
   "outputs": [],
   "source": [
    "if not os.path.isfile(DATASETS['filtered']):\n",
    "    df = pd.read_csv(DATASETS['original'],\n",
    "                     sep='\\t',\n",
    "                     header=None,\n",
    "                     names=['id', 'lang', 'text'])\n",
    "\n",
    "    mask = df['lang'].isin(list(LANGUAGES.keys()))\n",
    "    df = df.loc[mask]\n",
    "    \n",
    "    df = df.drop_duplicates(subset='text')\\\n",
    "         .sort_values(by='id')\n",
    "\n",
    "    lang_freq = df.groupby(['lang'])['lang']\\\n",
    "                .agg(['count'])\\\n",
    "                .reset_index()\n",
    "    lang_freq = lang_freq.loc[lang_freq['count'] >= MIN_LANG_FREQ]\n",
    "    \n",
    "    df = df.loc[df['lang'].isin(lang_freq['lang'].values)]\n",
    "    \n",
    "    df.to_csv(DATASETS['filtered'], index=False)"
   ]
  },
  {
   "cell_type": "code",
   "execution_count": 9,
   "metadata": {},
   "outputs": [],
   "source": [
    "def preprocess_text(text):\n",
    "    \"\"\"Text preprocessing.\n",
    "    \n",
    "    This function removes any non-alphabetic character. A non-alphabetic character\n",
    "    is one that does not belong to any of the alphabets that this system is capable\n",
    "    of identifying.\n",
    "    \n",
    "    Parameters\n",
    "    ----------\n",
    "    text: str\n",
    "    \n",
    "    Returns\n",
    "    -------\n",
    "    str\n",
    "    \"\"\"\n",
    "    text = text.lower()\n",
    "    \n",
    "    text = re.sub(rf'[^{ALPHABET}]', '', text)\n",
    "    \n",
    "    text = re.sub('\\s+', ' ', text)\n",
    "    text = text.strip()\n",
    "    \n",
    "    return text"
   ]
  },
  {
   "cell_type": "markdown",
   "metadata": {},
   "source": [
    "Preprocessing, normalizing, or cleaning those language-filtered sentences takes a relatively long time, i.e. in the order of minutes."
   ]
  },
  {
   "cell_type": "code",
   "execution_count": 10,
   "metadata": {},
   "outputs": [],
   "source": [
    "if not os.path.isfile(DATASETS['normalized']):\n",
    "    df = pd.read_csv(DATASETS['filtered'])\n",
    "    \n",
    "    sentences = []    \n",
    "    for index, row in df.iterrows():\n",
    "        text = row['text']\n",
    "        f0 = len(text)\n",
    "        \n",
    "        text = preprocess_text(text)\n",
    "        f1 = len(text)\n",
    "        \n",
    "        if f1 == 0:\n",
    "            continue\n",
    "            \n",
    "        sentences.append({\n",
    "            'id': row['id'],\n",
    "            'lang': row['lang'],\n",
    "            'f0': f0,\n",
    "            'f1': f1,\n",
    "            'text': text\n",
    "        })\n",
    "    \n",
    "    sentences = pd.DataFrame(sentences)\n",
    "    \n",
    "    columns = ['id', 'lang', 'f0', 'f1', 'text']\n",
    "    sentences = sentences[columns]\n",
    "    \n",
    "    sentences.to_csv(DATASETS['normalized'], index=False)"
   ]
  },
  {
   "cell_type": "markdown",
   "metadata": {},
   "source": [
    "## 2. Data Exploration and Sampling"
   ]
  },
  {
   "cell_type": "code",
   "execution_count": 11,
   "metadata": {},
   "outputs": [],
   "source": [
    "df = pd.read_csv(DATASETS['normalized'])"
   ]
  },
  {
   "cell_type": "markdown",
   "metadata": {},
   "source": [
    "### 2.1 Language Distribution"
   ]
  },
  {
   "cell_type": "code",
   "execution_count": 12,
   "metadata": {},
   "outputs": [],
   "source": [
    "lang_dist = df.groupby(['lang'])['lang']\\\n",
    "            .agg(['count'])\\\n",
    "            .reset_index()\n",
    "\n",
    "lang_dist = lang_dist\\\n",
    "            .sort_values(by='count', ascending=False)\\\n",
    "            .replace(to_replace={'lang': LANGUAGES})\\\n",
    "            .reset_index()\\\n",
    "            .drop(columns='index')"
   ]
  },
  {
   "cell_type": "code",
   "execution_count": 13,
   "metadata": {},
   "outputs": [
    {
     "data": {
      "text/html": [
       "<table border=\"1\" class=\"dataframe\">\n",
       "  <thead>\n",
       "    <tr style=\"text-align: right;\">\n",
       "      <th></th>\n",
       "      <th>lang</th>\n",
       "      <th>count</th>\n",
       "    </tr>\n",
       "  </thead>\n",
       "  <tbody>\n",
       "    <tr>\n",
       "      <th>0</th>\n",
       "      <td>English</td>\n",
       "      <td>1341444</td>\n",
       "    </tr>\n",
       "    <tr>\n",
       "      <th>1</th>\n",
       "      <td>Italian</td>\n",
       "      <td>761481</td>\n",
       "    </tr>\n",
       "    <tr>\n",
       "      <th>2</th>\n",
       "      <td>German</td>\n",
       "      <td>516360</td>\n",
       "    </tr>\n",
       "    <tr>\n",
       "      <th>3</th>\n",
       "      <td>French</td>\n",
       "      <td>430973</td>\n",
       "    </tr>\n",
       "    <tr>\n",
       "      <th>4</th>\n",
       "      <td>Portuguese</td>\n",
       "      <td>365818</td>\n",
       "    </tr>\n",
       "    <tr>\n",
       "      <th>5</th>\n",
       "      <td>Spanish</td>\n",
       "      <td>319704</td>\n",
       "    </tr>\n",
       "    <tr>\n",
       "      <th>6</th>\n",
       "      <td>Hungarian</td>\n",
       "      <td>286181</td>\n",
       "    </tr>\n",
       "    <tr>\n",
       "      <th>7</th>\n",
       "      <td>Dutch</td>\n",
       "      <td>115952</td>\n",
       "    </tr>\n",
       "    <tr>\n",
       "      <th>8</th>\n",
       "      <td>Finnish</td>\n",
       "      <td>114111</td>\n",
       "    </tr>\n",
       "    <tr>\n",
       "      <th>9</th>\n",
       "      <td>Polish</td>\n",
       "      <td>107147</td>\n",
       "    </tr>\n",
       "    <tr>\n",
       "      <th>10</th>\n",
       "      <td>Danish</td>\n",
       "      <td>47000</td>\n",
       "    </tr>\n",
       "    <tr>\n",
       "      <th>11</th>\n",
       "      <td>Czech</td>\n",
       "      <td>46681</td>\n",
       "    </tr>\n",
       "    <tr>\n",
       "      <th>12</th>\n",
       "      <td>Swedish</td>\n",
       "      <td>36763</td>\n",
       "    </tr>\n",
       "    <tr>\n",
       "      <th>13</th>\n",
       "      <td>Romanian</td>\n",
       "      <td>22222</td>\n",
       "    </tr>\n",
       "  </tbody>\n",
       "</table>"
      ],
      "text/plain": [
       "<IPython.core.display.HTML object>"
      ]
     },
     "metadata": {},
     "output_type": "display_data"
    }
   ],
   "source": [
    "display(HTML(lang_dist.to_html()))"
   ]
  },
  {
   "cell_type": "markdown",
   "metadata": {},
   "source": [
    "### 2.2 Sentences"
   ]
  },
  {
   "cell_type": "code",
   "execution_count": 14,
   "metadata": {},
   "outputs": [],
   "source": [
    "def draw_cdf(\n",
    "        X,\n",
    "        ax, xlabel, title,\n",
    "        nbins=10, range_=None,\n",
    "        color='blue'):\n",
    "    \"\"\"Plot a cumulative distribution function.\"\"\"\n",
    "    ax.hist(X, bins=nbins, density=True, histtype='step',\n",
    "            cumulative=True, range=range_, linewidth=2.0,\n",
    "            color=color)\n",
    "    \n",
    "    percentiles = np.arange(.25, 1, .25)\n",
    "    for pctl in percentiles:\n",
    "        pctl_value = np.percentile(X, int(pctl*100))\n",
    "    \n",
    "        ax.axhline(y=pctl, linestyle='dashdot', linewidth=1.0, color='black')\n",
    "    \n",
    "        ax.annotate('{:.0f}% ({:.0f})'.format((pctl*100), np.ceil(pctl_value)),\n",
    "                    xy=(np.ceil(pctl_value), pctl-.05), color='black')\n",
    "    \n",
    "    ax.grid(True)\n",
    "    ax.locator_params(tight=True, nbins=nbins)\n",
    "    ax.set_xlabel(xlabel)\n",
    "    \n",
    "    ax.set_title(title)"
   ]
  },
  {
   "cell_type": "code",
   "execution_count": 15,
   "metadata": {},
   "outputs": [
    {
     "data": {
      "image/png": "[encoded data removed]",
      "text/plain": [
       "<Figure size 1296x432 with 2 Axes>"
      ]
     },
     "metadata": {},
     "output_type": "display_data"
    }
   ],
   "source": [
    "fig, ax = plt.subplots(nrows=1, ncols=2, figsize=(18, 6))\n",
    "\n",
    "draw_cdf(df['f0'].sort_values(),\n",
    "         ax[0], 'Characters', 'Sentence Length Before Preprocessing',\n",
    "         range_=(0, 140))\n",
    "\n",
    "draw_cdf(df['f1'].sort_values(),\n",
    "         ax[1], 'Characters', 'Sentence Length After Preprocessing',\n",
    "         range_=(0, 140))\n",
    "\n",
    "plt.show()"
   ]
  },
  {
   "cell_type": "markdown",
   "metadata": {},
   "source": [
    "As depicted in the above figure, the text normalization removes only one non-alphabetic character. With this in mind, we can infer that sentences are mainly simple and that that non-alphabetic character corresponds to the full stop or period character."
   ]
  },
  {
   "cell_type": "markdown",
   "metadata": {},
   "source": [
    "### 2.3 Dataset and Language Sampling"
   ]
  },
  {
   "cell_type": "markdown",
   "metadata": {},
   "source": [
    "Let's split the whole dataset into training, development, and test sets. In terms of proportions, 60% of the dataset is going to be used to learn prediction models, whereas 20% of it to rank potential prediction models. Last, 20% of the dataset will be used to perform the model evaluation."
   ]
  },
  {
   "cell_type": "code",
   "execution_count": 16,
   "metadata": {},
   "outputs": [],
   "source": [
    "DATASET_SPLIT = {\n",
    "    'train': .6,\n",
    "    'dev': .2,\n",
    "    'test': .2\n",
    "}"
   ]
  },
  {
   "cell_type": "code",
   "execution_count": 17,
   "metadata": {},
   "outputs": [],
   "source": [
    "def dataset_sampling(df):\n",
    "    \"\"\"Dataset sampling.\n",
    "    \n",
    "    The whole dataset is split and sampled in a stratified way,\n",
    "    i.e., according to language distribution.\n",
    "    \n",
    "    Parameters\n",
    "    ----------\n",
    "    df: pd.DataFrame\n",
    "    \n",
    "    Returns\n",
    "    -------\n",
    "    pd.DataFrame\n",
    "    \"\"\"\n",
    "    # Shuffle the dataset\n",
    "    df = df.sample(n=None, frac=1., replace=False,\n",
    "                   random_state=RANDOM_SEED)\n",
    "    \n",
    "    ids = []\n",
    "    sentences = None\n",
    "    \n",
    "    columns = df.columns.tolist()\n",
    "    \n",
    "    for dataset, lang in itertools.product(DATASET_SPLIT.keys(), df['lang'].unique()):\n",
    "        dataset_size = df.shape[0] * DATASET_SPLIT[dataset]\n",
    "        \n",
    "        mask = (df['lang'] == lang)\n",
    "        lang_distribution = df.loc[mask].shape[0] / df.shape[0]\n",
    "        sample_size = int(np.round(lang_distribution * dataset_size, 0))\n",
    "        \n",
    "        partial_df = df.loc[mask & (~df['id'].isin(ids))]\n",
    "        \n",
    "        sample_size = (\n",
    "            sample_size if sample_size <= partial_df.shape[0]\n",
    "            else partial_df.shape[0]\n",
    "        )\n",
    "        \n",
    "        sample = partial_df.sample(n=sample_size,\n",
    "                                   replace=False,\n",
    "                                   random_state=RANDOM_SEED)\n",
    "        \n",
    "        ids += sample['id'].values.tolist()\n",
    "        \n",
    "        sample['dataset'] = dataset\n",
    "        \n",
    "        sentences = (\n",
    "            sample.copy(deep=True) if sentences is None\n",
    "            else sentences.append(sample.copy(deep=True), ignore_index=True)\n",
    "        )\n",
    "    \n",
    "    columns = ['dataset'] + columns\n",
    "    sentences = sentences[columns]\n",
    "    \n",
    "    return sentences"
   ]
  },
  {
   "cell_type": "code",
   "execution_count": 18,
   "metadata": {},
   "outputs": [],
   "source": [
    "if not os.path.isfile(DATASETS['sampled']):\n",
    "    df = dataset_sampling(df.copy(deep=True))\n",
    "    \n",
    "    df.to_csv(DATASETS['sampled'], index=False)"
   ]
  },
  {
   "cell_type": "markdown",
   "metadata": {},
   "source": [
    "Next, let's develop a function, i.e. `language_sampling`, to draw samples according to a variety of criteria. These samples are useful to find the best sampling strategy for training purposes."
   ]
  },
  {
   "cell_type": "code",
   "execution_count": 19,
   "metadata": {},
   "outputs": [],
   "source": [
    "def merge_sentences(df, min_length):\n",
    "    \"\"\"Merge sentences into one.\n",
    "    \n",
    "    Sentences are merged into one so that its length is greater than or equal to\n",
    "    ``min_length`` characters.\n",
    "    \n",
    "    Parameters\n",
    "    ----------\n",
    "    df: pd.DataFrame    \n",
    "    min_length: int\n",
    "        The minimum length, in terms of characters, that a sentence must be.\n",
    "    \n",
    "    Returns\n",
    "    -------\n",
    "    pd.DataFrame\n",
    "    \"\"\"\n",
    "    # Shuffle and sort the dataset\n",
    "    df = df[['lang', 'f1', 'text']]\\\n",
    "         .sample(n=None, frac=1., replace=False,\n",
    "                 random_state=RANDOM_SEED)\\\n",
    "         .sort_values(by='lang')\n",
    "    \n",
    "    dataset_size = df.shape[0]\n",
    "    df = df.append({'lang': 'unk', 'f1': 0, 'text': ''},\n",
    "                   ignore_index=True)\n",
    "    \n",
    "    length = 0\n",
    "    sentences = []\n",
    "    lang = None\n",
    "    \n",
    "    count = 0\n",
    "    \n",
    "    dataset = []\n",
    "    \n",
    "    for i, (index, row) in enumerate(df.iterrows()):\n",
    "        if (length >= min_length\n",
    "                or (isinstance(lang, str) and lang != row['lang'])\n",
    "                or i == dataset_size):\n",
    "            sentence = ' '.join(sentences)\n",
    "            sentence = re.sub(r'\\s+', ' ', sentence)\n",
    "            sentence = sentence.strip()\n",
    "            \n",
    "            dataset.append({\n",
    "                'id': count,\n",
    "                'lang': lang,\n",
    "                'f1': len(sentence),\n",
    "                'text': sentence\n",
    "            })\n",
    "            \n",
    "            length = 0\n",
    "            sentences = []\n",
    "            \n",
    "            count += 1\n",
    "        \n",
    "        sentences.append(row['text'])\n",
    "        lang = row['lang']\n",
    "        length += row['f1']\n",
    "    \n",
    "    return pd.DataFrame(dataset)"
   ]
  },
  {
   "cell_type": "code",
   "execution_count": 20,
   "metadata": {},
   "outputs": [],
   "source": [
    "def language_sampling(\n",
    "        df,\n",
    "        method,\n",
    "        n=None,\n",
    "        frac=None,\n",
    "        min_length=0,\n",
    "        discard_sentences=True\n",
    "        ):\n",
    "    \"\"\"Language sampling.\n",
    "    \n",
    "    This function allows for developing several sampling strategies to train or\n",
    "    evaluate the language identification system.\n",
    "    \n",
    "    Parameters\n",
    "    ----------\n",
    "    df: pd.DataFrame    \n",
    "    method: str, ['uniform', 'stratified']    \n",
    "    n: int, optional\n",
    "        If ``method='uniform'``, the number of sentences to draw from the\n",
    "        dataset for each language. Cannot be used with `frac`.    \n",
    "    frac: float, optional\n",
    "        If ``method='stratified'``, the fraction of the dataset to draw a\n",
    "        sample. Cannot be used with `n`.    \n",
    "    min_length: int\n",
    "        The minimum length, in terms of characters, that a sentence must be.        \n",
    "    discard_sentences: bool\n",
    "        If ``discard_sentences=True``, those sentences whose length is less\n",
    "        than ``min_length`` characters are discarded.\n",
    "    \n",
    "    Returns\n",
    "    -------\n",
    "    pd.DataFrame\n",
    "    \"\"\"\n",
    "    if (not isinstance(method, str)\n",
    "            or method not in ('uniform', 'stratified')):\n",
    "        raise ValueError(\"Set either 'uniform' or 'stratified' to `method`.\")\n",
    "    \n",
    "    if (method == 'uniform'\n",
    "            and not isinstance(n, int)):\n",
    "        raise ValueError(\"`n` has to be an integer value.\")\n",
    "    elif (method == 'stratified'\n",
    "            and not isinstance(frac, float)):\n",
    "        raise ValueError(\"`frac` has to be a float value.\")\n",
    "    \n",
    "    if discard_sentences and min_length > 1:\n",
    "        df = df.loc[df['f1'] >= min_length]\n",
    "    \n",
    "    # Shuffle the dataset\n",
    "    df = df[['id', 'lang', 'f1', 'text']]\\\n",
    "         .sample(n=None, frac=1., replace=False,\n",
    "                 random_state=RANDOM_SEED)\n",
    "    \n",
    "    if (isinstance(frac, float)\n",
    "            and frac == 1.):\n",
    "        return df[['lang', 'f1', 'text']]\n",
    "    \n",
    "    ids = []\n",
    "    sentences = None\n",
    "    \n",
    "    for lang in df['lang'].unique():\n",
    "        sample_size = n\n",
    "        \n",
    "        if method == 'stratified':\n",
    "            lang_distribution = df.loc[df['lang'] == lang].shape[0] / df.shape[0]\n",
    "            sample_size = lang_distribution * (df.shape[0] * frac)\n",
    "            sample_size = int(np.round(sample_size, 0))\n",
    "        \n",
    "        mask = ((df['lang'] == lang) & (~df['id'].isin(ids)))\n",
    "        partial_df = df.loc[mask]\n",
    "        \n",
    "        sample_size = (\n",
    "            sample_size if sample_size <= partial_df.shape[0]\n",
    "            else partial_df.shape[0]\n",
    "        )\n",
    "        \n",
    "        sample = partial_df.sample(n=sample_size,\n",
    "                                   replace=False,\n",
    "                                   random_state=RANDOM_SEED)\n",
    "        \n",
    "        ids += sample['id'].values.tolist()\n",
    "        \n",
    "        sentences = (\n",
    "            sample.copy(deep=True) if sentences is None\n",
    "            else sentences.append(sample.copy(deep=True), ignore_index=True)\n",
    "        )\n",
    "    \n",
    "    return sentences[['lang', 'f1', 'text']]"
   ]
  },
  {
   "cell_type": "code",
   "execution_count": 21,
   "metadata": {},
   "outputs": [],
   "source": [
    "def perform_language_sampling(\n",
    "        df,\n",
    "        sampling_strategies,\n",
    "        output_path\n",
    "        ):\n",
    "    \"\"\"Perform language sampling.\n",
    "    \n",
    "    Parameters\n",
    "    ----------\n",
    "    df: pd.DataFrame    \n",
    "    sampling_strategies: list    \n",
    "    output_path: str\n",
    "    \"\"\"\n",
    "    mask = ((df['f1'] > 0) & (df['text'].notnull()))\n",
    "    df = df.loc[mask]\n",
    "    \n",
    "    for strtg in sampling_strategies:\n",
    "        if (not strtg['discard_sentences']\n",
    "                and strtg['min_length'] == 0):\n",
    "            continue\n",
    "        \n",
    "        dataset_path = os.path.join(output_path, strtg['dataset'])\n",
    "        if not os.path.isdir(dataset_path):\n",
    "            os.makedirs(dataset_path)\n",
    "            \n",
    "        fname = ('method={}'.format(strtg['method'])\n",
    "                 + '_n={}'.format(strtg['n'])\n",
    "                 + '_frac={}'.format(strtg['frac'])\n",
    "                 + '_min_length={}'.format(strtg['min_length'])\n",
    "                 + '_discard_sentences={}'.format(strtg['discard_sentences'])\n",
    "                 + '.csv')\n",
    "        fname = os.path.join(dataset_path, fname)\n",
    "        \n",
    "        if os.path.isfile(fname):\n",
    "            continue\n",
    "        \n",
    "        mask = df['dataset'] == strtg['dataset']\n",
    "        if re.search('_', strtg['dataset']):\n",
    "            mask = df['dataset'].isin(strtg['dataset'].split('_'))\n",
    "        \n",
    "        dataset = df.loc[mask]\n",
    "        \n",
    "        if not strtg['discard_sentences']:\n",
    "            sentences_fname = ('merged_sentences'\n",
    "                               + '_min_length={}'.format(strtg['min_length'])\n",
    "                               + '.csv')\n",
    "            sentences_fname = os.path.join(dataset_path, sentences_fname)\n",
    "            \n",
    "            if not os.path.isfile(sentences_fname):\n",
    "                dataset = merge_sentences(dataset.copy(deep=True),\n",
    "                                          strtg['min_length'])\n",
    "                \n",
    "                dataset.to_csv(sentences_fname, index=False)\n",
    "            else:\n",
    "                dataset = pd.read_csv(sentences_fname)\n",
    "        \n",
    "        sample = language_sampling(\n",
    "            dataset.copy(deep=True),\n",
    "            method=strtg['method'],\n",
    "            n=strtg['n'],\n",
    "            frac=strtg['frac'],\n",
    "            min_length=strtg['min_length'],\n",
    "            discard_sentences=strtg['discard_sentences']\n",
    "        )\n",
    "\n",
    "        sample.to_csv(fname, index=False)"
   ]
  },
  {
   "cell_type": "markdown",
   "metadata": {},
   "source": [
    "Sampling according to the following criteria takes a long time, i.e., in the order of minutes."
   ]
  },
  {
   "cell_type": "code",
   "execution_count": 22,
   "metadata": {},
   "outputs": [],
   "source": [
    "min_length = [0, 5, 10, 20, 40, 100, 140]\n",
    "\n",
    "uniform_sampling = {\n",
    "    'dataset': ['train'],\n",
    "    'method': ['uniform'],\n",
    "    'n': [1000, 4000, 8000, 10000, 12000],\n",
    "    'frac': [None],\n",
    "    'min_length': min_length,\n",
    "    'discard_sentences': [True, False]\n",
    "}\n",
    "\n",
    "uniform_sampling = ParameterGrid(uniform_sampling)\n",
    "uniform_sampling = list(uniform_sampling)\n",
    "\n",
    "uniform_sampling += [{\n",
    "    'dataset': 'dev',\n",
    "    'method': 'uniform',\n",
    "    'n': 1000,\n",
    "    'frac': None,\n",
    "    'min_length': 0,\n",
    "    'discard_sentences': True\n",
    "}]\n",
    "\n",
    "stratified_sampling = {\n",
    "    'dataset': ['train'],\n",
    "    'method': ['stratified'],\n",
    "    'n': [None],\n",
    "    'frac': [.1, .2, .4, .8, 1.],\n",
    "    'min_length': min_length,\n",
    "    'discard_sentences': [True, False]\n",
    "    }\n",
    "\n",
    "stratified_sampling = ParameterGrid(stratified_sampling)\n",
    "stratified_sampling = list(stratified_sampling)\n",
    "\n",
    "sampling_strategies = uniform_sampling + stratified_sampling"
   ]
  },
  {
   "cell_type": "code",
   "execution_count": 23,
   "metadata": {},
   "outputs": [],
   "source": [
    "TATOEBA_PATH = os.path.join(DATA_PATH, 'tatoeba')\n",
    "\n",
    "df = pd.read_csv(DATASETS['sampled'])\n",
    "\n",
    "perform_language_sampling(df.copy(deep=True),\n",
    "                          sampling_strategies,\n",
    "                          TATOEBA_PATH)\n",
    "\n",
    "df = None"
   ]
  },
  {
   "cell_type": "markdown",
   "metadata": {},
   "source": [
    "## 3. Language Identification System"
   ]
  },
  {
   "cell_type": "markdown",
   "metadata": {},
   "source": [
    "The system architecture can be viewed as a pipeline consisting of a text preprocessing module, a vectorizer that transforms text into character n-gram features, and a machine-learned classifier that predicts the language in which a document, message, or sentence is written. The following figure illustrates this architecture."
   ]
  },
  {
   "cell_type": "markdown",
   "metadata": {},
   "source": [
    "![System Architecture](img/architecture.svg \"System Architecture\")\n",
    "<div align=\"center\" style=\"margin-top: 10px;\"><b>Figure</b>: System Architecture</div>"
   ]
  },
  {
   "cell_type": "markdown",
   "metadata": {},
   "source": [
    "### 3.1 Feature Extraction"
   ]
  },
  {
   "cell_type": "markdown",
   "metadata": {},
   "source": [
    "A preprocessed, normalized, or cleaned document, message, or sentence is transformed into character n-gram features through a vectorizer. Particularly, the vectorizer applies the *tf-idf* weighting scheme to learn feature vectors."
   ]
  },
  {
   "cell_type": "code",
   "execution_count": 24,
   "metadata": {},
   "outputs": [],
   "source": [
    "def vectorize_documents(\n",
    "        documents,\n",
    "        analyzer,\n",
    "        ngram_range,\n",
    "        max_df,\n",
    "        min_df,\n",
    "        binary):\n",
    "    \"\"\"Build a vectorizer from a collection of documents.\"\"\"\n",
    "    vectorizer = TfidfVectorizer(\n",
    "        input='content',\n",
    "        lowercase=True,\n",
    "        analyzer=analyzer,\n",
    "        stop_words=None,\n",
    "        ngram_range=ngram_range,\n",
    "        max_df=max_df,\n",
    "        min_df=min_df,\n",
    "        binary=binary\n",
    "    )\n",
    "    \n",
    "    X = vectorizer.fit_transform(documents)\n",
    "    \n",
    "    return X, vectorizer"
   ]
  },
  {
   "cell_type": "markdown",
   "metadata": {},
   "source": [
    "### 3.2 Machine-learned Classification"
   ]
  },
  {
   "cell_type": "markdown",
   "metadata": {},
   "source": [
    "After learning character n-gram features, a machine-learned classifier receives a feature vector and assigns a class label to a given text. This class label corresponds to the language the classifier predicts a document, message, or sentence is written in. As the language identification system is learned on 14-language data, its predictions are approached as a multi-class classification task."
   ]
  },
  {
   "cell_type": "code",
   "execution_count": 25,
   "metadata": {},
   "outputs": [],
   "source": [
    "def build_classifier(\n",
    "        train,\n",
    "        analyzer,\n",
    "        ngram_range,\n",
    "        max_df,\n",
    "        min_df,\n",
    "        binary\n",
    "        ):\n",
    "    \"\"\"Vectorize a collection of documents and train a machine-learned classifier.\"\"\"\n",
    "    ngram_features, vectorizer = vectorize_documents(\n",
    "        train['text'].values.tolist(),\n",
    "        analyzer,\n",
    "        ngram_range,\n",
    "        max_df,\n",
    "        min_df,\n",
    "        binary\n",
    "    )\n",
    "    \n",
    "    y = train['lang'].values.tolist()\n",
    "    \n",
    "    cv = StratifiedKFold(n_splits=5, shuffle=True, random_state=RANDOM_SEED)\n",
    "    \n",
    "    param_grid = {\n",
    "        'C': np.power(10., np.arange(-2, 3, dtype=float)),\n",
    "        'penalty': ['l2'], 'solver': ['liblinear'],\n",
    "        'multi_class': ['ovr']\n",
    "    }\n",
    "    \n",
    "    clf = GridSearchCV(estimator=LogisticRegression(),\n",
    "                       param_grid=param_grid,\n",
    "                       scoring='accuracy',\n",
    "                       n_jobs=5,\n",
    "                       iid=False,\n",
    "                       cv=cv,\n",
    "                       refit=True)\n",
    "    \n",
    "    clf.fit(ngram_features, y)\n",
    "    \n",
    "    cv_score = clf.best_score_\n",
    "    \n",
    "    return cv_score, vectorizer, clf.best_estimator_"
   ]
  },
  {
   "cell_type": "code",
   "execution_count": 26,
   "metadata": {},
   "outputs": [],
   "source": [
    "def model_evaluation(y_true, y_pred):\n",
    "    \"\"\"Perform the model evaluation.\"\"\"\n",
    "    accuracy = accuracy_score(y_true, y_pred)\n",
    "    f1 = f1_score(y_true, y_pred, average='macro')\n",
    "       \n",
    "    return accuracy, f1"
   ]
  },
  {
   "cell_type": "code",
   "execution_count": 27,
   "metadata": {},
   "outputs": [],
   "source": [
    "LANG_TO_IDX = {lang: i for i, lang in enumerate(LANGUAGES.keys())}\n",
    "IDX_TO_LANG = {i: lang for lang, i in LANG_TO_IDX.items()}\n",
    "\n",
    "RESULT_HEADER = [\n",
    "    'train',\n",
    "    'method',\n",
    "    'n',\n",
    "    'frac',\n",
    "    'min_length',\n",
    "    'discard_sentences',\n",
    "    'cv_score',\n",
    "    'evaluation',\n",
    "    'accuracy',\n",
    "    'f1_score',\n",
    "    'analyzer',\n",
    "    'ngram_range',\n",
    "    'max_df',\n",
    "    'min_df',\n",
    "    'binary',\n",
    "    'vectorizer_id',\n",
    "    'vectorizer_size',\n",
    "    'classifier_id',\n",
    "    'classifier_size'\n",
    "]"
   ]
  },
  {
   "cell_type": "markdown",
   "metadata": {},
   "source": [
    "Learning models takes a long time, i.e., in the order of hours. However, the reader may limit experiments that are run to a small number, depending on his or her discretion."
   ]
  },
  {
   "cell_type": "code",
   "execution_count": 28,
   "metadata": {},
   "outputs": [],
   "source": [
    "def learn_classifiers(\n",
    "        train_path,\n",
    "        result_fname,\n",
    "        test_fname=None,\n",
    "        save_models=False,\n",
    "        persistence_path=None,\n",
    "        params_frac=.05\n",
    "        ):\n",
    "    \"\"\"Learn classifiers.\"\"\"\n",
    "    fnames = [\n",
    "        fname for fname in os.listdir(train_path)\n",
    "        if (re.match('method=[a-z]{7,10}', fname) and fname.endswith('.csv'))\n",
    "    ]\n",
    "    \n",
    "    param_grid = {\n",
    "        'analyzer': ['char', 'char_wb'],\n",
    "        'ngram_range': [(i, i) for i in range(2, 5)],\n",
    "        'max_df': np.linspace(.75, .95, 5),\n",
    "        'min_df': np.arange(3, 30, 9),\n",
    "        'binary': [True, False]\n",
    "    }\n",
    "    \n",
    "    param_grid = ParameterGrid(param_grid)\n",
    "    grid_size = len(param_grid)\n",
    "    \n",
    "    np.random.seed(RANDOM_SEED)\n",
    "    \n",
    "    sample_size = int(np.round(grid_size * params_frac, 0))\n",
    "    indexes = np.random.choice(grid_size, size=sample_size, replace=False)\n",
    "    \n",
    "    results = []\n",
    "    \n",
    "    if (save_models\n",
    "            and not isinstance(persistence_path, str)):\n",
    "        raise ValueError(\"Set a value to `persistence_path`.\")\n",
    "    elif save_models:\n",
    "        persistence_path = {\n",
    "            'vectorizer': os.path.join(persistence_path, 'vectorizers'),\n",
    "            'classifier': os.path.join(persistence_path, 'classifiers')\n",
    "        }   \n",
    "    \n",
    "    for id_, (fname, index) in enumerate(itertools.product(fnames, indexes)):\n",
    "        result = {p: None for p in RESULT_HEADER}\n",
    "        \n",
    "        for p, val in re.findall('([a-z_]+)=([^_]+)', fname.rstrip('.csv')):\n",
    "            result[p.lstrip('_')] = (None if val == 'None' else val)\n",
    "        \n",
    "        if (result['method'] == 'stratified'\n",
    "                and float(result['frac']) >= 0.4):\n",
    "            continue\n",
    "        \n",
    "        fname = os.path.join(train_path, fname)\n",
    "        result['train'] = fname.split(os.sep)[-2]\n",
    "        \n",
    "        train = pd.read_csv(fname)\n",
    "        train = train[['lang', 'text']]\n",
    "        train = train.replace(to_replace={'lang': LANG_TO_IDX})\n",
    "        \n",
    "        params = param_grid[index]\n",
    "        \n",
    "        result['analyzer'] = params['analyzer']\n",
    "        result['ngram_range'] = ','.join([str(num) for num in params['ngram_range']])\n",
    "        result['max_df'] = '{:.2f}'.format(params['max_df'])\n",
    "        result['min_df'] = str(params['min_df'])\n",
    "        result['binary'] = str(params['binary'])\n",
    "        \n",
    "        cv_score, vectorizer, clf = build_classifier(\n",
    "            train,\n",
    "            params['analyzer'],\n",
    "            params['ngram_range'],\n",
    "            params['max_df'],\n",
    "            params['min_df'],\n",
    "            params['binary']\n",
    "        )\n",
    "        \n",
    "        result['cv_score'] = '{:.4f}'.format(cv_score)\n",
    "        \n",
    "        if isinstance(test_fname, str):\n",
    "            result['evaluation'] = test_fname.split(os.sep)[-2]\n",
    "            \n",
    "            test = pd.read_csv(test_fname)\n",
    "            test = test[['lang', 'text']]\n",
    "            test = test.replace(to_replace={'lang': LANG_TO_IDX})\n",
    "            \n",
    "            ngram_features = vectorizer.transform(test['text'].values.tolist())\n",
    "            y_pred = clf.predict(ngram_features)\n",
    "            \n",
    "            accuracy, f1 = model_evaluation(test['lang'].values.tolist(),\n",
    "                                            y_pred)\n",
    "            \n",
    "            result['accuracy'] = '{:.4f}'.format(accuracy)\n",
    "            result['f1_score'] = '{:.4f}'.format(f1)\n",
    "        \n",
    "        if save_models:\n",
    "            for str_obj, path in persistence_path.items():\n",
    "                if not os.path.isdir(path):\n",
    "                    os.makedirs(path)\n",
    "                \n",
    "                obj = clf if str_obj == 'classifier' else vectorizer\n",
    "                obj_fname = os.path.join(persistence_path[str_obj],\n",
    "                                         '{}.joblib'.format(id_))\n",
    "            \n",
    "                if not os.path.isfile(obj_fname):\n",
    "                    joblib.dump(obj, obj_fname)\n",
    "            \n",
    "                result['{}_id'.format(str_obj)] = str(id_)\n",
    "                \n",
    "                obj_size = os.path.getsize(obj_fname) / 1000\n",
    "                result['{}_size'.format(str_obj)] = '{:.2f}'.format(obj_size)\n",
    "        \n",
    "        results.append(result)\n",
    "        \n",
    "        pd.DataFrame(results)[RESULT_HEADER]\\\n",
    "        .to_csv(result_fname, index=False, mode='w')"
   ]
  },
  {
   "cell_type": "markdown",
   "metadata": {},
   "source": [
    "On the other hand, these experiments aim to find out how much data are required to build a system capable of identifying—with high accuracy—the language in which a document, message, or sentence is written. For this reason, machine-learned classifiers are trained on a variety of collections, drawn according to different sampling criteria, namely: sampling method, sample size, minimum sentence length, and whether to discard sentences whose length is less than a threshold or merge them into one until its length is greater than or equal to the threshold."
   ]
  },
  {
   "cell_type": "code",
   "execution_count": 29,
   "metadata": {},
   "outputs": [],
   "source": [
    "MODEL_PERSISTENCE_PATH = os.path.join(TATOEBA_PATH, 'models')\n",
    "\n",
    "if not os.path.isfile(DATASETS['model_selection']):\n",
    "    train_path = os.path.join(TATOEBA_PATH, 'train')\n",
    "    \n",
    "    test_fname = 'method=uniform_n=1000_frac=None_min_length=0_discard_sentences=True.csv'\n",
    "    test_fname = os.path.join(TATOEBA_PATH, 'dev', test_fname)\n",
    "    \n",
    "    learn_classifiers(\n",
    "        train_path,\n",
    "        DATASETS['model_selection'],\n",
    "        test_fname=test_fname,\n",
    "        save_models=True,\n",
    "        persistence_path=MODEL_PERSISTENCE_PATH\n",
    "    )"
   ]
  },
  {
   "cell_type": "markdown",
   "metadata": {},
   "source": [
    "In total, 290 classifiers were trained. Note that this took around 14 hours."
   ]
  },
  {
   "cell_type": "code",
   "execution_count": 30,
   "metadata": {},
   "outputs": [],
   "source": [
    "df = pd.read_csv(DATASETS['model_selection'])\n",
    "\n",
    "df['size'] = df['vectorizer_size'] + df['classifier_size']"
   ]
  },
  {
   "cell_type": "code",
   "execution_count": 31,
   "metadata": {},
   "outputs": [
    {
     "name": "stdout",
     "output_type": "stream",
     "text": [
      "The minimum size of a language identification model is 166.42 kb.\n",
      "The maximum size is 19,680.78 kb\n"
     ]
    }
   ],
   "source": [
    "print('The minimum size of a language identification model is {:.2f} kb.'.format(df['size'].min())\n",
    "      + '\\n'\n",
    "      + 'The maximum size is {:,.2f} kb'.format(df['size'].max()))"
   ]
  },
  {
   "cell_type": "code",
   "execution_count": 32,
   "metadata": {},
   "outputs": [
    {
     "data": {
      "image/png": "[encoded data removed]",
      "text/plain": [
       "<Figure size 648x432 with 1 Axes>"
      ]
     },
     "metadata": {},
     "output_type": "display_data"
    }
   ],
   "source": [
    "fig, ax = plt.subplots(nrows=1, ncols=1, figsize=(9, 6))\n",
    "\n",
    "draw_cdf(df['size'].sort_values(),\n",
    "         ax, 'Kilobytes', 'Size of Language Identification Models (Vectorizer Plus Classifier)',\n",
    "         range_=(0, 20000))\n",
    "\n",
    "plt.show()"
   ]
  },
  {
   "cell_type": "markdown",
   "metadata": {},
   "source": [
    "As depicted in the above figure, 75% of language identification models (i.e., vectorizer plus classifier) weigh less than 5,184 kilobytes (approx. 5.2 megabytes), whereas the size of half of them is less than 2,796 kilobytes (approx. 2.8 megabytes).\n",
    "\n",
    "With this in mind, let's find out which is the best language identification model by size range. First, the model with the highest accuracy and whose size is less than 967 kilobytes will be the best in the small range. Second, the model with the highest accuracy and whose size ranges from 967 to 5,184 kilobytes will be the best in the medium range. Last, the large model will be selected from those weighing more than 5,184 kilobytes."
   ]
  },
  {
   "cell_type": "code",
   "execution_count": 33,
   "metadata": {},
   "outputs": [],
   "source": [
    "size_ranges = [\n",
    "    ['small', [0, 966]],\n",
    "    ['medium', [967, 5184]],\n",
    "    ['large', [5185, None]],\n",
    "]\n",
    "\n",
    "df['size_range'] = 'unk'\n",
    "\n",
    "for range_desc, size_range in size_ranges:\n",
    "    min_size, max_size = size_range\n",
    "    \n",
    "    mask = (\n",
    "        ((min_size <= df['size']) & (df['size'] <= max_size)) if isinstance(max_size, int)\n",
    "        else (df['size'] >= min_size)\n",
    "    )\n",
    "    df.loc[mask, 'size_range'] = range_desc"
   ]
  },
  {
   "cell_type": "code",
   "execution_count": 34,
   "metadata": {},
   "outputs": [],
   "source": [
    "projection = [\n",
    "    'size_range',\n",
    "    'method',\n",
    "    'n',\n",
    "    'frac',\n",
    "    'min_length',\n",
    "    'discard_sentences',\n",
    "    'accuracy',\n",
    "    'vectorizer_id',\n",
    "    'classifier_id',\n",
    "    'size'\n",
    "]\n",
    "\n",
    "best_models = df[projection]\\\n",
    "              .sort_values(by=['size_range', 'accuracy', 'size'],\n",
    "                           ascending=[False, False, True])\\\n",
    "              .drop_duplicates(subset='size_range',\n",
    "                               keep='first')\\\n",
    "              .reset_index()\\\n",
    "              .drop(columns='index')"
   ]
  },
  {
   "cell_type": "code",
   "execution_count": 35,
   "metadata": {},
   "outputs": [
    {
     "data": {
      "text/html": [
       "<table border=\"1\" class=\"dataframe\">\n",
       "  <thead>\n",
       "    <tr style=\"text-align: right;\">\n",
       "      <th></th>\n",
       "      <th>size_range</th>\n",
       "      <th>method</th>\n",
       "      <th>n</th>\n",
       "      <th>frac</th>\n",
       "      <th>min_length</th>\n",
       "      <th>discard_sentences</th>\n",
       "      <th>accuracy</th>\n",
       "      <th>vectorizer_id</th>\n",
       "      <th>classifier_id</th>\n",
       "      <th>size</th>\n",
       "    </tr>\n",
       "  </thead>\n",
       "  <tbody>\n",
       "    <tr>\n",
       "      <th>0</th>\n",
       "      <td>small</td>\n",
       "      <td>uniform</td>\n",
       "      <td>1000.0</td>\n",
       "      <td>NaN</td>\n",
       "      <td>10</td>\n",
       "      <td>False</td>\n",
       "      <td>0.9789</td>\n",
       "      <td>399</td>\n",
       "      <td>399</td>\n",
       "      <td>876.25</td>\n",
       "    </tr>\n",
       "    <tr>\n",
       "      <th>1</th>\n",
       "      <td>medium</td>\n",
       "      <td>uniform</td>\n",
       "      <td>10000.0</td>\n",
       "      <td>NaN</td>\n",
       "      <td>10</td>\n",
       "      <td>True</td>\n",
       "      <td>0.9926</td>\n",
       "      <td>32</td>\n",
       "      <td>32</td>\n",
       "      <td>1875.11</td>\n",
       "    </tr>\n",
       "    <tr>\n",
       "      <th>2</th>\n",
       "      <td>large</td>\n",
       "      <td>uniform</td>\n",
       "      <td>12000.0</td>\n",
       "      <td>NaN</td>\n",
       "      <td>5</td>\n",
       "      <td>True</td>\n",
       "      <td>0.9949</td>\n",
       "      <td>199</td>\n",
       "      <td>199</td>\n",
       "      <td>12772.91</td>\n",
       "    </tr>\n",
       "  </tbody>\n",
       "</table>"
      ],
      "text/plain": [
       "<IPython.core.display.HTML object>"
      ]
     },
     "metadata": {},
     "output_type": "display_data"
    }
   ],
   "source": [
    "display(HTML(best_models.to_html()))"
   ]
  },
  {
   "cell_type": "markdown",
   "metadata": {},
   "source": [
    "As shown in the above table, the best models require a relatively small amount of data on which to train them, compared to the amount of data resulting from the stratified sampling method."
   ]
  },
  {
   "cell_type": "code",
   "execution_count": 36,
   "metadata": {},
   "outputs": [],
   "source": [
    "class LanguageIdentification(object):\n",
    "    \"\"\"Language identification system.\"\"\"\n",
    "    \n",
    "    def __init__(\n",
    "            self,\n",
    "            vectorizer_id,\n",
    "            classifier_id,\n",
    "            persistence_path=MODEL_PERSISTENCE_PATH\n",
    "            ):\n",
    "        \"\"\"Initialization, set `vectorizer_id` and `classifier_id`.\"\"\"\n",
    "        if (not re.match(r'[0-9]+', str(vectorizer_id))\n",
    "                or int(vectorizer_id) < 1):\n",
    "            raise ValueError(\"Set an integer value greater than zero to `vectorizer_id`.\")\n",
    "        \n",
    "        if (not re.match(r'[0-9]+', str(classifier_id))\n",
    "                or int(classifier_id) < 1):\n",
    "            raise ValueError(\"Set an integer value greater than zero to `classifier_id`.\")\n",
    "        \n",
    "        self.load_model(vectorizer_id, classifier_id, persistence_path)\n",
    "    \n",
    "    def load_model(\n",
    "            self,\n",
    "            vectorizer_id,\n",
    "            classifier_id,\n",
    "            persistence_path\n",
    "            ):\n",
    "        \"\"\"Load the vectorizer and the classifier.\"\"\"\n",
    "        vectorizer_fname = os.path.join(persistence_path,\n",
    "                                        'vectorizers',\n",
    "                                        '{}.joblib'.format(vectorizer_id))\n",
    "        self.vectorizer = joblib.load(vectorizer_fname)\n",
    "        \n",
    "        classifier_fname = os.path.join(persistence_path,\n",
    "                                        'classifiers',\n",
    "                                        '{}.joblib'.format(classifier_id))\n",
    "        self.clf = joblib.load(classifier_fname)\n",
    "    \n",
    "    def predict(\n",
    "            self,\n",
    "            text,\n",
    "            preprocess=True):\n",
    "        \"\"\"Predict the language a document, message, or sentence is written in.\n",
    "        \n",
    "        Parameters\n",
    "        ----------\n",
    "        text: str or list\n",
    "        preprocess: bool\n",
    "        \n",
    "        Returns\n",
    "        -------\n",
    "        str or list\n",
    "        \"\"\"\n",
    "        text = [text] if isinstance(text, str) else text\n",
    "        \n",
    "        text = (\n",
    "            [preprocess_text(t) for t in text] if preprocess\n",
    "            else text\n",
    "        )\n",
    "        \n",
    "        ngram_features = self.vectorizer.transform(text)\n",
    "        y = [IDX_TO_LANG[lang] for lang in self.clf.predict(ngram_features)]\n",
    "        \n",
    "        y = y[0] if len(y) == 1 else y\n",
    "        \n",
    "        return y"
   ]
  },
  {
   "cell_type": "markdown",
   "metadata": {},
   "source": [
    "Finally, let's instantiate the system and test it by identifying the language in which a message is written. This system corresponds to the best model in the medium size range."
   ]
  },
  {
   "cell_type": "code",
   "execution_count": 37,
   "metadata": {},
   "outputs": [],
   "source": [
    "idendioma = LanguageIdentification(32, 32)"
   ]
  },
  {
   "cell_type": "code",
   "execution_count": 38,
   "metadata": {},
   "outputs": [
    {
     "name": "stdout",
     "output_type": "stream",
     "text": [
      "spa\n"
     ]
    }
   ],
   "source": [
    "msg = 'Hoy vivimos el segundo día de agosto.'\n",
    "print(idendioma.predict(msg))"
   ]
  },
  {
   "cell_type": "markdown",
   "metadata": {},
   "source": [
    "## 4. Experiments"
   ]
  },
  {
   "cell_type": "markdown",
   "metadata": {},
   "source": [
    "First, let's list the libraries through which the ability of the approach proposed here will be compared:\n",
    "\n",
    "1. [**langid**](https://github.com/saffsd/langid.py)\n",
    "2. [**langdetect**](https://github.com/Mimino666/langdetect)\n",
    "3. [**fasttext**](https://fasttext.cc/blog/2017/10/02/blog-post.html) (small pre-trained model)\n",
    "\n",
    "Hereinafter, the proposed approach will be identified as ***idendioma***."
   ]
  },
  {
   "cell_type": "code",
   "execution_count": 39,
   "metadata": {},
   "outputs": [],
   "source": [
    "LI_SYSTEMS = [\n",
    "    {\n",
    "        'desc': 'idendioma (small)',\n",
    "        'class': LanguageIdentification,\n",
    "        'init_params': {'vectorizer_id': 399, 'classifier_id': 399},\n",
    "        'batch': True\n",
    "    },\n",
    "    {\n",
    "        'desc': 'idendioma (medium)',\n",
    "        'class': LanguageIdentification,\n",
    "        'init_params': {'vectorizer_id': 32, 'classifier_id': 32},\n",
    "        'batch': True\n",
    "    },\n",
    "    {\n",
    "        'desc': 'idendioma (large)',\n",
    "        'class': LanguageIdentification,\n",
    "        'init_params': {'vectorizer_id': 199, 'classifier_id': 199},\n",
    "        'batch': True\n",
    "    },\n",
    "    {\n",
    "        'desc': 'langid',\n",
    "        'class': LanguageIdentificationHelper,\n",
    "        'init_params': {'library': 'langid'},\n",
    "        'batch': False\n",
    "    },\n",
    "    {\n",
    "        'desc': 'langdetect',\n",
    "        'class': LanguageIdentificationHelper,\n",
    "        'init_params': {'library': 'langdetect'},\n",
    "        'batch': False\n",
    "    },\n",
    "    {\n",
    "        'desc': 'fasttext (small)',\n",
    "        'class': LanguageIdentificationHelper,\n",
    "        'init_params': {'library': 'fasttext'},\n",
    "        'batch': True\n",
    "    }\n",
    "]"
   ]
  },
  {
   "cell_type": "markdown",
   "metadata": {},
   "source": [
    "Second, let's list the datasets on which the performance of the proposed approach will be evaluated and compared to several third-party language identification libraries:\n",
    "\n",
    "1. [**WiLI-2018**](https://arxiv.org/pdf/1801.07779.pdf): it is a collection of paragraphs extracted from articles written in one in 235 languages that [Wikipedia](https://wikipedia.org/) supports. Particularly, these paragraphs, whose minimum length is 140 characters, might be multilingual. For instance, the English article about [Gabriel García Márquez](https://en.wikipedia.org/wiki/Gabriel_Garc%C3%ADa_M%C3%A1rquez), a Colombian novelist awarded with the 1982 Nobel Prize in Literature, contains excerpts and special characters from the Spanish language, mostly because of the original title of his novels, such as *Cien años de soledad* (*One Hundred Years of Solitude*). Last, those paragraphs written in one out of the 14 languages the approach proposed here supports have been filtered.\n",
    "2. [**LIGA**](https://www.win.tue.nl/~mpechen/projects/smm/#Datasets): it is a collection of preprocessed tweets written in one out of six languages, namely: German, English, Spanish, French, Italian, and Dutch."
   ]
  },
  {
   "cell_type": "code",
   "execution_count": 40,
   "metadata": {},
   "outputs": [],
   "source": [
    "if not os.path.isfile(DATASETS['tatoeba_test']):\n",
    "    df = pd.read_csv(DATASETS['sampled'])\n",
    "    \n",
    "    mask = ((df['dataset'] == 'test') & (df['f1'] > 0) & (df['text'].notnull()))\n",
    "    df = df.loc[mask]\n",
    "    \n",
    "    df = language_sampling(\n",
    "        df.copy(deep=True),\n",
    "        'uniform',\n",
    "        n=1000,\n",
    "        min_length=0,\n",
    "        discard_sentences=True\n",
    "        )\n",
    "    \n",
    "    df = df[['lang', 'text']]\n",
    "    \n",
    "    df.to_csv(DATASETS['tatoeba_test'], index=False)"
   ]
  },
  {
   "cell_type": "code",
   "execution_count": 41,
   "metadata": {},
   "outputs": [],
   "source": [
    "LI_DATASETS = {\n",
    "    'Tatoeba': DATASETS['tatoeba_test'],\n",
    "    'WiLI-2018': DATASETS['wili_test'],\n",
    "    'LIGA': DATASETS['liga_test'],\n",
    "}"
   ]
  },
  {
   "cell_type": "code",
   "execution_count": 42,
   "metadata": {},
   "outputs": [],
   "source": [
    "EXPERIMENT_HEADER = [\n",
    "    'dataset',\n",
    "    'system',\n",
    "    'accuracy',\n",
    "    'f1_score'\n",
    "]"
   ]
  },
  {
   "cell_type": "code",
   "execution_count": 43,
   "metadata": {},
   "outputs": [],
   "source": [
    "def evaluate_system(system, dataset_fname):\n",
    "    \"\"\"Evaluate the performance of a language identification system on a given dataset.\n",
    "    \n",
    "    Parameters\n",
    "    ----------\n",
    "    system: dict\n",
    "    dataset_fname: str\n",
    "    \"\"\"\n",
    "    langid = system['class'](**system['init_params'])\n",
    "    \n",
    "    df = pd.read_csv(dataset_fname)    \n",
    "    df = df.replace(to_replace={'lang': LANG_TO_IDX})\n",
    "    \n",
    "    y_true = df['lang'].values.tolist()\n",
    "    \n",
    "    texts = df['text'].values.tolist()\n",
    "    \n",
    "    np.random.seed(RANDOM_SEED)\n",
    "    \n",
    "    default_lang = np.random.choice(np.unique(y_true), size=1)\n",
    "    default_lang = default_lang[0]\n",
    "    \n",
    "    y_pred = langid.predict(texts) if system['batch'] else []\n",
    "    \n",
    "    if not system['batch']:\n",
    "        for t in texts:\n",
    "            try:\n",
    "                y_pred.append(langid.predict(t))\n",
    "            except:\n",
    "                y_pred.append(default_lang)\n",
    "    \n",
    "    y_pred = [\n",
    "        (LANG_TO_IDX[pred] if pred in LANG_TO_IDX else default_lang)\n",
    "        for pred in y_pred\n",
    "    ]\n",
    "    \n",
    "    return model_evaluation(y_true, y_pred)"
   ]
  },
  {
   "cell_type": "code",
   "execution_count": 44,
   "metadata": {},
   "outputs": [],
   "source": [
    "def performance_comparison(li_systems, li_datasets, result_fname):\n",
    "    \"\"\"Evaluate the performance of language identification systems.\"\"\"\n",
    "    results = []\n",
    "    \n",
    "    for system, dataset_id in itertools.product(li_systems, li_datasets.keys()):\n",
    "        result = {c: None for c in EXPERIMENT_HEADER}\n",
    "        \n",
    "        result['system'] = system['desc']\n",
    "        result['dataset'] = dataset_id\n",
    "        \n",
    "        accuracy, f1 = evaluate_system(system, li_datasets[dataset_id])\n",
    "        \n",
    "        result['accuracy'] = '{:.4f}'.format(accuracy)\n",
    "        result['f1_score'] = '{:.4f}'.format(f1)\n",
    "        \n",
    "        results.append(result)\n",
    "        \n",
    "        pd.DataFrame(results)[EXPERIMENT_HEADER]\\\n",
    "        .to_csv(result_fname, index=False, mode='w')"
   ]
  },
  {
   "cell_type": "code",
   "execution_count": 45,
   "metadata": {},
   "outputs": [],
   "source": [
    "if not os.path.isfile(DATASETS['experiments']):\n",
    "    performance_comparison(LI_SYSTEMS, LI_DATASETS, DATASETS['experiments'])"
   ]
  },
  {
   "cell_type": "code",
   "execution_count": 46,
   "metadata": {},
   "outputs": [],
   "source": [
    "experiments = pd.read_csv(DATASETS['experiments'])"
   ]
  },
  {
   "cell_type": "code",
   "execution_count": 47,
   "metadata": {},
   "outputs": [],
   "source": [
    "def language_distribution(fname):\n",
    "    df = pd.read_csv(fname)\n",
    "    \n",
    "    lang_dist = df.groupby(['lang'])['lang']\\\n",
    "                .agg(['count'])\\\n",
    "                .reset_index()\n",
    "    \n",
    "    lang_dist['frac'] = lang_dist['count'] / lang_dist['count'].sum()\n",
    "\n",
    "    lang_dist = lang_dist\\\n",
    "                .sort_values(by='count', ascending=False)\\\n",
    "                .replace(to_replace={'lang': LANGUAGES})\\\n",
    "                .reset_index()\\\n",
    "                .drop(columns='index')\n",
    "    \n",
    "    return lang_dist"
   ]
  },
  {
   "cell_type": "code",
   "execution_count": 48,
   "metadata": {},
   "outputs": [],
   "source": [
    "def plot_performance_evaluation(df, dataset, ax):\n",
    "    df = df.loc[df['dataset'] == dataset]\\\n",
    "         .melt(id_vars='system',\n",
    "               value_vars=['accuracy', 'f1_score'],\n",
    "               var_name='metric')\\\n",
    "         .pivot(index='system', columns='metric', values='value')\n",
    "\n",
    "    df.plot(kind='bar', ax=ax)\n",
    "\n",
    "    ax.grid(True)\n",
    "    \n",
    "    ax.set_ylim([0, 1.1])\n",
    "    ax.set_xlabel(None)\n",
    "    \n",
    "    ax.set_title('Performance Evaluation on the {} Dataset'.format(dataset))\n",
    "    \n",
    "    ax.legend()"
   ]
  },
  {
   "cell_type": "markdown",
   "metadata": {},
   "source": [
    "### 4.1 Tatoeba"
   ]
  },
  {
   "cell_type": "markdown",
   "metadata": {},
   "source": [
    "First, let's describe this dataset, aggregating the number of samples for each language."
   ]
  },
  {
   "cell_type": "code",
   "execution_count": 49,
   "metadata": {},
   "outputs": [
    {
     "data": {
      "text/html": [
       "<table border=\"1\" class=\"dataframe\">\n",
       "  <thead>\n",
       "    <tr style=\"text-align: right;\">\n",
       "      <th></th>\n",
       "      <th>lang</th>\n",
       "      <th>count</th>\n",
       "      <th>frac</th>\n",
       "    </tr>\n",
       "  </thead>\n",
       "  <tbody>\n",
       "    <tr>\n",
       "      <th>0</th>\n",
       "      <td>Czech</td>\n",
       "      <td>1000</td>\n",
       "      <td>0.071429</td>\n",
       "    </tr>\n",
       "    <tr>\n",
       "      <th>1</th>\n",
       "      <td>Danish</td>\n",
       "      <td>1000</td>\n",
       "      <td>0.071429</td>\n",
       "    </tr>\n",
       "    <tr>\n",
       "      <th>2</th>\n",
       "      <td>German</td>\n",
       "      <td>1000</td>\n",
       "      <td>0.071429</td>\n",
       "    </tr>\n",
       "    <tr>\n",
       "      <th>3</th>\n",
       "      <td>English</td>\n",
       "      <td>1000</td>\n",
       "      <td>0.071429</td>\n",
       "    </tr>\n",
       "    <tr>\n",
       "      <th>4</th>\n",
       "      <td>Finnish</td>\n",
       "      <td>1000</td>\n",
       "      <td>0.071429</td>\n",
       "    </tr>\n",
       "    <tr>\n",
       "      <th>5</th>\n",
       "      <td>French</td>\n",
       "      <td>1000</td>\n",
       "      <td>0.071429</td>\n",
       "    </tr>\n",
       "    <tr>\n",
       "      <th>6</th>\n",
       "      <td>Hungarian</td>\n",
       "      <td>1000</td>\n",
       "      <td>0.071429</td>\n",
       "    </tr>\n",
       "    <tr>\n",
       "      <th>7</th>\n",
       "      <td>Italian</td>\n",
       "      <td>1000</td>\n",
       "      <td>0.071429</td>\n",
       "    </tr>\n",
       "    <tr>\n",
       "      <th>8</th>\n",
       "      <td>Dutch</td>\n",
       "      <td>1000</td>\n",
       "      <td>0.071429</td>\n",
       "    </tr>\n",
       "    <tr>\n",
       "      <th>9</th>\n",
       "      <td>Polish</td>\n",
       "      <td>1000</td>\n",
       "      <td>0.071429</td>\n",
       "    </tr>\n",
       "    <tr>\n",
       "      <th>10</th>\n",
       "      <td>Portuguese</td>\n",
       "      <td>1000</td>\n",
       "      <td>0.071429</td>\n",
       "    </tr>\n",
       "    <tr>\n",
       "      <th>11</th>\n",
       "      <td>Romanian</td>\n",
       "      <td>1000</td>\n",
       "      <td>0.071429</td>\n",
       "    </tr>\n",
       "    <tr>\n",
       "      <th>12</th>\n",
       "      <td>Spanish</td>\n",
       "      <td>1000</td>\n",
       "      <td>0.071429</td>\n",
       "    </tr>\n",
       "    <tr>\n",
       "      <th>13</th>\n",
       "      <td>Swedish</td>\n",
       "      <td>1000</td>\n",
       "      <td>0.071429</td>\n",
       "    </tr>\n",
       "  </tbody>\n",
       "</table>"
      ],
      "text/plain": [
       "<IPython.core.display.HTML object>"
      ]
     },
     "metadata": {},
     "output_type": "display_data"
    }
   ],
   "source": [
    "lang_dist = language_distribution(DATASETS['tatoeba_test'])\n",
    "display(HTML(lang_dist.to_html()))"
   ]
  },
  {
   "cell_type": "markdown",
   "metadata": {},
   "source": [
    "Next, let's plot the performance of the proposed approach on this dataset and compare it to that of third-party language identification libraries."
   ]
  },
  {
   "cell_type": "code",
   "execution_count": 50,
   "metadata": {},
   "outputs": [
    {
     "data": {
      "image/png": "[encoded data removed]",
      "text/plain": [
       "<Figure size 648x432 with 1 Axes>"
      ]
     },
     "metadata": {},
     "output_type": "display_data"
    }
   ],
   "source": [
    "fig, ax = plt.subplots(nrows=1, ncols=1, figsize=(9, 6))\n",
    "\n",
    "plot_performance_evaluation(experiments.copy(deep=True),\n",
    "                            'Tatoeba',\n",
    "                            ax)\n",
    "\n",
    "plt.show()"
   ]
  },
  {
   "cell_type": "markdown",
   "metadata": {},
   "source": [
    "As depicted in the above figure and expected, the performance of the proposed approach, whatever the size range, is better than that of third-party libraries, as different language identification models have been trained on only Tatoeba data."
   ]
  },
  {
   "cell_type": "markdown",
   "metadata": {},
   "source": [
    "### 4.2 WiLI-2018"
   ]
  },
  {
   "cell_type": "markdown",
   "metadata": {},
   "source": [
    "Let's start by getting insights into the language distribution of this dataset."
   ]
  },
  {
   "cell_type": "code",
   "execution_count": 51,
   "metadata": {},
   "outputs": [
    {
     "data": {
      "text/html": [
       "<table border=\"1\" class=\"dataframe\">\n",
       "  <thead>\n",
       "    <tr style=\"text-align: right;\">\n",
       "      <th></th>\n",
       "      <th>lang</th>\n",
       "      <th>count</th>\n",
       "      <th>frac</th>\n",
       "    </tr>\n",
       "  </thead>\n",
       "  <tbody>\n",
       "    <tr>\n",
       "      <th>0</th>\n",
       "      <td>Czech</td>\n",
       "      <td>500</td>\n",
       "      <td>0.071429</td>\n",
       "    </tr>\n",
       "    <tr>\n",
       "      <th>1</th>\n",
       "      <td>Danish</td>\n",
       "      <td>500</td>\n",
       "      <td>0.071429</td>\n",
       "    </tr>\n",
       "    <tr>\n",
       "      <th>2</th>\n",
       "      <td>German</td>\n",
       "      <td>500</td>\n",
       "      <td>0.071429</td>\n",
       "    </tr>\n",
       "    <tr>\n",
       "      <th>3</th>\n",
       "      <td>English</td>\n",
       "      <td>500</td>\n",
       "      <td>0.071429</td>\n",
       "    </tr>\n",
       "    <tr>\n",
       "      <th>4</th>\n",
       "      <td>Finnish</td>\n",
       "      <td>500</td>\n",
       "      <td>0.071429</td>\n",
       "    </tr>\n",
       "    <tr>\n",
       "      <th>5</th>\n",
       "      <td>French</td>\n",
       "      <td>500</td>\n",
       "      <td>0.071429</td>\n",
       "    </tr>\n",
       "    <tr>\n",
       "      <th>6</th>\n",
       "      <td>Hungarian</td>\n",
       "      <td>500</td>\n",
       "      <td>0.071429</td>\n",
       "    </tr>\n",
       "    <tr>\n",
       "      <th>7</th>\n",
       "      <td>Italian</td>\n",
       "      <td>500</td>\n",
       "      <td>0.071429</td>\n",
       "    </tr>\n",
       "    <tr>\n",
       "      <th>8</th>\n",
       "      <td>Dutch</td>\n",
       "      <td>500</td>\n",
       "      <td>0.071429</td>\n",
       "    </tr>\n",
       "    <tr>\n",
       "      <th>9</th>\n",
       "      <td>Polish</td>\n",
       "      <td>500</td>\n",
       "      <td>0.071429</td>\n",
       "    </tr>\n",
       "    <tr>\n",
       "      <th>10</th>\n",
       "      <td>Portuguese</td>\n",
       "      <td>500</td>\n",
       "      <td>0.071429</td>\n",
       "    </tr>\n",
       "    <tr>\n",
       "      <th>11</th>\n",
       "      <td>Romanian</td>\n",
       "      <td>500</td>\n",
       "      <td>0.071429</td>\n",
       "    </tr>\n",
       "    <tr>\n",
       "      <th>12</th>\n",
       "      <td>Spanish</td>\n",
       "      <td>500</td>\n",
       "      <td>0.071429</td>\n",
       "    </tr>\n",
       "    <tr>\n",
       "      <th>13</th>\n",
       "      <td>Swedish</td>\n",
       "      <td>500</td>\n",
       "      <td>0.071429</td>\n",
       "    </tr>\n",
       "  </tbody>\n",
       "</table>"
      ],
      "text/plain": [
       "<IPython.core.display.HTML object>"
      ]
     },
     "metadata": {},
     "output_type": "display_data"
    }
   ],
   "source": [
    "lang_dist = language_distribution(DATASETS['wili_test'])\n",
    "display(HTML(lang_dist.to_html()))"
   ]
  },
  {
   "cell_type": "markdown",
   "metadata": {},
   "source": [
    "Next, let's plot the performance evaluation and comparison."
   ]
  },
  {
   "cell_type": "code",
   "execution_count": 52,
   "metadata": {},
   "outputs": [
    {
     "data": {
      "image/png": "[encoded data removed]",
      "text/plain": [
       "<Figure size 648x432 with 1 Axes>"
      ]
     },
     "metadata": {},
     "output_type": "display_data"
    }
   ],
   "source": [
    "fig, ax = plt.subplots(nrows=1, ncols=1, figsize=(9, 6))\n",
    "\n",
    "plot_performance_evaluation(experiments.copy(deep=True),\n",
    "                            'WiLI-2018',\n",
    "                            ax)\n",
    "\n",
    "plt.show()"
   ]
  },
  {
   "cell_type": "markdown",
   "metadata": {},
   "source": [
    "Overall, the performance of the **fasttext** library is the best, even though the difference with the second best-ranked model, i.e., **idendioma (large)**, is negligible."
   ]
  },
  {
   "cell_type": "markdown",
   "metadata": {},
   "source": [
    "### 4.3 LIGA"
   ]
  },
  {
   "cell_type": "code",
   "execution_count": 53,
   "metadata": {},
   "outputs": [
    {
     "data": {
      "text/html": [
       "<table border=\"1\" class=\"dataframe\">\n",
       "  <thead>\n",
       "    <tr style=\"text-align: right;\">\n",
       "      <th></th>\n",
       "      <th>lang</th>\n",
       "      <th>count</th>\n",
       "      <th>frac</th>\n",
       "    </tr>\n",
       "  </thead>\n",
       "  <tbody>\n",
       "    <tr>\n",
       "      <th>0</th>\n",
       "      <td>Spanish</td>\n",
       "      <td>1562</td>\n",
       "      <td>0.172292</td>\n",
       "    </tr>\n",
       "    <tr>\n",
       "      <th>1</th>\n",
       "      <td>French</td>\n",
       "      <td>1551</td>\n",
       "      <td>0.171079</td>\n",
       "    </tr>\n",
       "    <tr>\n",
       "      <th>2</th>\n",
       "      <td>Italian</td>\n",
       "      <td>1539</td>\n",
       "      <td>0.169755</td>\n",
       "    </tr>\n",
       "    <tr>\n",
       "      <th>3</th>\n",
       "      <td>English</td>\n",
       "      <td>1505</td>\n",
       "      <td>0.166005</td>\n",
       "    </tr>\n",
       "    <tr>\n",
       "      <th>4</th>\n",
       "      <td>German</td>\n",
       "      <td>1479</td>\n",
       "      <td>0.163137</td>\n",
       "    </tr>\n",
       "    <tr>\n",
       "      <th>5</th>\n",
       "      <td>Dutch</td>\n",
       "      <td>1430</td>\n",
       "      <td>0.157732</td>\n",
       "    </tr>\n",
       "  </tbody>\n",
       "</table>"
      ],
      "text/plain": [
       "<IPython.core.display.HTML object>"
      ]
     },
     "metadata": {},
     "output_type": "display_data"
    }
   ],
   "source": [
    "lang_dist = language_distribution(DATASETS['liga_test'])\n",
    "display(HTML(lang_dist.to_html()))"
   ]
  },
  {
   "cell_type": "code",
   "execution_count": 54,
   "metadata": {},
   "outputs": [
    {
     "data": {
      "image/png": "[encoded data removed]",
      "text/plain": [
       "<Figure size 648x432 with 1 Axes>"
      ]
     },
     "metadata": {},
     "output_type": "display_data"
    }
   ],
   "source": [
    "fig, ax = plt.subplots(nrows=1, ncols=1, figsize=(9, 6))\n",
    "\n",
    "plot_performance_evaluation(experiments.copy(deep=True),\n",
    "                            'LIGA',\n",
    "                            ax)\n",
    "\n",
    "plt.show()"
   ]
  },
  {
   "cell_type": "markdown",
   "metadata": {},
   "source": [
    "In terms of accuracy, the performance of the approach proposed here is the best (i.e., 0.9902), **large** model. Instead, the **fasttext** library achieves the highest F1 score (i.e., 0.5941). Last, it is worth stating that it seems incoherent that all models perform so poorly in terms of the F1 score, considering that the language distribution of this dataset is uniform. Therefore, further investigation of this matter is required."
   ]
  },
  {
   "cell_type": "code",
   "execution_count": null,
   "metadata": {},
   "outputs": [],
   "source": []
  }
 ],
 "metadata": {
  "kernelspec": {
   "display_name": "Python 3",
   "language": "python",
   "name": "python3"
  },
  "language_info": {
   "codemirror_mode": {
    "name": "ipython",
    "version": 3
   },
   "file_extension": ".py",
   "mimetype": "text/x-python",
   "name": "python",
   "nbconvert_exporter": "python",
   "pygments_lexer": "ipython3",
   "version": "3.7.4"
  }
 },
 "nbformat": 4,
 "nbformat_minor": 4
}
